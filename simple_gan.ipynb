{
  "nbformat": 4,
  "nbformat_minor": 0,
  "metadata": {
    "colab": {
      "provenance": [],
      "gpuType": "T4"
    },
    "kernelspec": {
      "name": "python3",
      "display_name": "Python 3"
    },
    "language_info": {
      "name": "python"
    },
    "accelerator": "GPU"
  },
  "cells": [
    {
      "cell_type": "code",
      "execution_count": 2,
      "metadata": {
        "id": "SMTvanV-oqvv"
      },
      "outputs": [],
      "source": [
        "import torch\n",
        "import torch.nn as nn\n",
        "import torch.optim as optim\n",
        "import torchvision\n",
        "import torchvision.datasets as datasets\n",
        "from torch.utils.data import DataLoader\n",
        "import torchvision.transforms as transforms\n",
        "from torch.utils.tensorboard import SummaryWriter"
      ]
    },
    {
      "cell_type": "code",
      "source": [
        "class Discriminator(nn.Module):\n",
        "    def __init__(self, in_features):\n",
        "        super().__init__()\n",
        "        self.disc = nn.Sequential(\n",
        "            nn.Linear(in_features, 128),\n",
        "            nn.LeakyReLU(0.1),\n",
        "            nn.Linear(128, 1),\n",
        "            nn.Sigmoid(),\n",
        "        )\n",
        "\n",
        "    def forward(self, x):\n",
        "        return self.disc(x)"
      ],
      "metadata": {
        "id": "LUYGNSkzoyXZ"
      },
      "execution_count": 3,
      "outputs": []
    },
    {
      "cell_type": "code",
      "source": [
        "class Generator(nn.Module):\n",
        "    def __init__(self, z_dim, img_dim):\n",
        "        super().__init__()\n",
        "        self.gen = nn.Sequential(\n",
        "            nn.Linear(z_dim, 256),\n",
        "            nn.LeakyReLU(0.1),\n",
        "            nn.Linear(256, img_dim), # 28x28 --> 784\n",
        "            nn.Tanh(),\n",
        "        )\n",
        "\n",
        "    def forward(self, x):\n",
        "        return self.gen(x)"
      ],
      "metadata": {
        "id": "UN_kgX8lo0wI"
      },
      "execution_count": 4,
      "outputs": []
    },
    {
      "cell_type": "code",
      "source": [
        "# Hyperparameters etc.\n",
        "device = \"cuda\" if torch.cuda.is_available() else \"cpu\"\n",
        "lr = 3e-4\n",
        "z_dim = 64 # 128, 256, etc.\n",
        "image_dim = 28*28*1 # 784\n",
        "batch_size = 32\n",
        "num_epochs = 50\n",
        "\n",
        "disc = Discriminator(image_dim).to(device)\n",
        "gen = Generator(z_dim, image_dim).to(device)\n",
        "fixed_noise = torch.randn((batch_size, z_dim)).to(device)\n",
        "transforms = transforms.Compose(\n",
        "    [transforms.ToTensor(), transforms.Normalize((0.5,), (0.5,))]\n",
        ")\n",
        "dataset = datasets.MNIST(root=\"dataset/\", transform=transforms, download=True)\n",
        "loader = DataLoader(dataset, batch_size=batch_size, shuffle=True)\n",
        "opt_disc = optim.Adam(disc.parameters(), lr=lr)\n",
        "opt_gen = optim.Adam(gen.parameters(), lr=lr)\n",
        "criterion = nn.BCELoss()\n",
        "writer_fake = SummaryWriter(f\"runs/GAN_MIST/fake\")\n",
        "writer_real = SummaryWriter(f\"runs/GAN_MIST/real\")\n",
        "step = 0"
      ],
      "metadata": {
        "colab": {
          "base_uri": "https://localhost:8080/"
        },
        "id": "SkOgMEXSo3Z5",
        "outputId": "a036289b-e878-4c95-a56f-913d18aca6b4"
      },
      "execution_count": 5,
      "outputs": [
        {
          "output_type": "stream",
          "name": "stdout",
          "text": [
            "Downloading http://yann.lecun.com/exdb/mnist/train-images-idx3-ubyte.gz\n",
            "Failed to download (trying next):\n",
            "HTTP Error 403: Forbidden\n",
            "\n",
            "Downloading https://ossci-datasets.s3.amazonaws.com/mnist/train-images-idx3-ubyte.gz\n",
            "Downloading https://ossci-datasets.s3.amazonaws.com/mnist/train-images-idx3-ubyte.gz to dataset/MNIST/raw/train-images-idx3-ubyte.gz\n"
          ]
        },
        {
          "output_type": "stream",
          "name": "stderr",
          "text": [
            "100%|██████████| 9912422/9912422 [00:00<00:00, 11822573.50it/s]\n"
          ]
        },
        {
          "output_type": "stream",
          "name": "stdout",
          "text": [
            "Extracting dataset/MNIST/raw/train-images-idx3-ubyte.gz to dataset/MNIST/raw\n",
            "\n",
            "Downloading http://yann.lecun.com/exdb/mnist/train-labels-idx1-ubyte.gz\n",
            "Failed to download (trying next):\n",
            "HTTP Error 403: Forbidden\n",
            "\n",
            "Downloading https://ossci-datasets.s3.amazonaws.com/mnist/train-labels-idx1-ubyte.gz\n",
            "Downloading https://ossci-datasets.s3.amazonaws.com/mnist/train-labels-idx1-ubyte.gz to dataset/MNIST/raw/train-labels-idx1-ubyte.gz\n"
          ]
        },
        {
          "output_type": "stream",
          "name": "stderr",
          "text": [
            "100%|██████████| 28881/28881 [00:00<00:00, 351829.77it/s]\n"
          ]
        },
        {
          "output_type": "stream",
          "name": "stdout",
          "text": [
            "Extracting dataset/MNIST/raw/train-labels-idx1-ubyte.gz to dataset/MNIST/raw\n",
            "\n",
            "Downloading http://yann.lecun.com/exdb/mnist/t10k-images-idx3-ubyte.gz\n",
            "Failed to download (trying next):\n",
            "HTTP Error 403: Forbidden\n",
            "\n",
            "Downloading https://ossci-datasets.s3.amazonaws.com/mnist/t10k-images-idx3-ubyte.gz\n",
            "Downloading https://ossci-datasets.s3.amazonaws.com/mnist/t10k-images-idx3-ubyte.gz to dataset/MNIST/raw/t10k-images-idx3-ubyte.gz\n"
          ]
        },
        {
          "output_type": "stream",
          "name": "stderr",
          "text": [
            "100%|██████████| 1648877/1648877 [00:00<00:00, 2801247.78it/s]\n"
          ]
        },
        {
          "output_type": "stream",
          "name": "stdout",
          "text": [
            "Extracting dataset/MNIST/raw/t10k-images-idx3-ubyte.gz to dataset/MNIST/raw\n",
            "\n",
            "Downloading http://yann.lecun.com/exdb/mnist/t10k-labels-idx1-ubyte.gz\n",
            "Failed to download (trying next):\n",
            "HTTP Error 403: Forbidden\n",
            "\n",
            "Downloading https://ossci-datasets.s3.amazonaws.com/mnist/t10k-labels-idx1-ubyte.gz\n",
            "Downloading https://ossci-datasets.s3.amazonaws.com/mnist/t10k-labels-idx1-ubyte.gz to dataset/MNIST/raw/t10k-labels-idx1-ubyte.gz\n"
          ]
        },
        {
          "output_type": "stream",
          "name": "stderr",
          "text": [
            "100%|██████████| 4542/4542 [00:00<00:00, 2992543.00it/s]"
          ]
        },
        {
          "output_type": "stream",
          "name": "stdout",
          "text": [
            "Extracting dataset/MNIST/raw/t10k-labels-idx1-ubyte.gz to dataset/MNIST/raw\n",
            "\n"
          ]
        },
        {
          "output_type": "stream",
          "name": "stderr",
          "text": [
            "\n"
          ]
        }
      ]
    },
    {
      "cell_type": "code",
      "source": [
        "for epoch in range(num_epochs):\n",
        "    for batch_idx, (real, _) in enumerate(loader):\n",
        "        real = real.view(-1, 784).to(device)\n",
        "        batch_size = real.shape[0]\n",
        "\n",
        "        ### Train Discriminator: max log(D(x)) + log(1 - D(G(z)))\n",
        "        noise = torch.randn(batch_size, z_dim).to(device)\n",
        "        fake = gen(noise)\n",
        "        disc_real = disc(real).view(-1)\n",
        "        lossD_real = criterion(disc_real, torch.ones_like(disc_real))\n",
        "        disc_fake = disc(fake).view(-1) # disc_fake = disc(fake.detach()).view(-1) wont backpropagate to generator (another way)\n",
        "        lossD_fake = criterion(disc_fake, torch.zeros_like(disc_fake))\n",
        "        lossD = (lossD_real + lossD_fake) / 2\n",
        "        disc.zero_grad()\n",
        "        lossD.backward(retain_graph=True) # for not backpropagating to generator\n",
        "        opt_disc.step()\n",
        "\n",
        "        ### Train Generator: min log(1 - D(G(z))) <-> max log(D(G(z))\n",
        "        output = disc(fake).view(-1)\n",
        "        lossG = criterion(output, torch.ones_like(output))\n",
        "        gen.zero_grad()\n",
        "        lossG.backward()\n",
        "        opt_gen.step()\n",
        "\n",
        "        ### Printing losses occasionally and printing to tensorboard\n",
        "        if batch_idx == 0:\n",
        "            print(\n",
        "                f\"Epoch [{epoch}/{num_epochs}] Batch {batch_idx}/{len(loader)} \\\n",
        "                  Loss D: {lossD:.4f}, loss G: {lossG:.4f}\"\n",
        "            )\n",
        "\n",
        "            with torch.no_grad():\n",
        "                fake = gen(fixed_noise).reshape(-1, 1, 28, 28)\n",
        "                data = real.reshape(-1, 1, 28, 28)\n",
        "                img_grid_fake = torchvision.utils.make_grid(fake, normalize=True)\n",
        "                img_grid_real = torchvision.utils.make_grid(data, normalize=True)\n",
        "\n",
        "                writer_fake.add_image(\"Mnist Fake Images\", img_grid_fake, global_step=step)\n",
        "                writer_real.add_image(\"Mnist Real Images\", img_grid_real, global_step=step)\n",
        "                step += 1"
      ],
      "metadata": {
        "colab": {
          "base_uri": "https://localhost:8080/"
        },
        "id": "Aebiz3JwpAH5",
        "outputId": "a844be70-0c74-442f-c128-094a22d576a3"
      },
      "execution_count": 6,
      "outputs": [
        {
          "output_type": "stream",
          "name": "stdout",
          "text": [
            "Epoch [0/50] Batch 0/1875                   Loss D: 0.6934, loss G: 0.6705\n",
            "Epoch [1/50] Batch 0/1875                   Loss D: 0.4078, loss G: 1.2553\n",
            "Epoch [2/50] Batch 0/1875                   Loss D: 0.4125, loss G: 1.4438\n",
            "Epoch [3/50] Batch 0/1875                   Loss D: 0.4758, loss G: 1.3249\n",
            "Epoch [4/50] Batch 0/1875                   Loss D: 0.2958, loss G: 1.6984\n",
            "Epoch [5/50] Batch 0/1875                   Loss D: 0.8152, loss G: 1.0366\n",
            "Epoch [6/50] Batch 0/1875                   Loss D: 0.4102, loss G: 1.3421\n",
            "Epoch [7/50] Batch 0/1875                   Loss D: 0.5551, loss G: 1.1226\n",
            "Epoch [8/50] Batch 0/1875                   Loss D: 0.5772, loss G: 1.3678\n",
            "Epoch [9/50] Batch 0/1875                   Loss D: 0.6334, loss G: 1.3199\n",
            "Epoch [10/50] Batch 0/1875                   Loss D: 0.5872, loss G: 1.2178\n",
            "Epoch [11/50] Batch 0/1875                   Loss D: 0.5943, loss G: 1.6621\n",
            "Epoch [12/50] Batch 0/1875                   Loss D: 0.5564, loss G: 1.4240\n",
            "Epoch [13/50] Batch 0/1875                   Loss D: 0.6112, loss G: 1.2809\n",
            "Epoch [14/50] Batch 0/1875                   Loss D: 0.7061, loss G: 0.9693\n",
            "Epoch [15/50] Batch 0/1875                   Loss D: 0.6151, loss G: 0.8988\n",
            "Epoch [16/50] Batch 0/1875                   Loss D: 0.5324, loss G: 1.7684\n",
            "Epoch [17/50] Batch 0/1875                   Loss D: 0.4539, loss G: 1.7074\n",
            "Epoch [18/50] Batch 0/1875                   Loss D: 0.5584, loss G: 1.4258\n",
            "Epoch [19/50] Batch 0/1875                   Loss D: 0.5145, loss G: 1.4422\n",
            "Epoch [20/50] Batch 0/1875                   Loss D: 0.5482, loss G: 1.2946\n",
            "Epoch [21/50] Batch 0/1875                   Loss D: 0.5968, loss G: 1.3995\n",
            "Epoch [22/50] Batch 0/1875                   Loss D: 0.4916, loss G: 1.4664\n",
            "Epoch [23/50] Batch 0/1875                   Loss D: 0.7478, loss G: 1.1809\n",
            "Epoch [24/50] Batch 0/1875                   Loss D: 0.9040, loss G: 1.2383\n",
            "Epoch [25/50] Batch 0/1875                   Loss D: 0.6970, loss G: 0.9729\n",
            "Epoch [26/50] Batch 0/1875                   Loss D: 0.6314, loss G: 1.1847\n",
            "Epoch [27/50] Batch 0/1875                   Loss D: 0.6639, loss G: 0.9302\n",
            "Epoch [28/50] Batch 0/1875                   Loss D: 0.4497, loss G: 1.4695\n",
            "Epoch [29/50] Batch 0/1875                   Loss D: 0.5819, loss G: 1.2760\n",
            "Epoch [30/50] Batch 0/1875                   Loss D: 0.5618, loss G: 1.3526\n",
            "Epoch [31/50] Batch 0/1875                   Loss D: 0.5669, loss G: 1.2121\n",
            "Epoch [32/50] Batch 0/1875                   Loss D: 0.6506, loss G: 1.0643\n",
            "Epoch [33/50] Batch 0/1875                   Loss D: 0.6104, loss G: 0.8707\n",
            "Epoch [34/50] Batch 0/1875                   Loss D: 0.6949, loss G: 0.9760\n",
            "Epoch [35/50] Batch 0/1875                   Loss D: 0.7254, loss G: 0.8471\n",
            "Epoch [36/50] Batch 0/1875                   Loss D: 0.5708, loss G: 1.1155\n",
            "Epoch [37/50] Batch 0/1875                   Loss D: 0.5601, loss G: 1.1550\n",
            "Epoch [38/50] Batch 0/1875                   Loss D: 0.6161, loss G: 1.4345\n",
            "Epoch [39/50] Batch 0/1875                   Loss D: 0.6358, loss G: 1.1359\n",
            "Epoch [40/50] Batch 0/1875                   Loss D: 0.5859, loss G: 1.2116\n",
            "Epoch [41/50] Batch 0/1875                   Loss D: 0.7348, loss G: 0.7821\n",
            "Epoch [42/50] Batch 0/1875                   Loss D: 0.6146, loss G: 1.0894\n",
            "Epoch [43/50] Batch 0/1875                   Loss D: 0.6397, loss G: 0.9527\n",
            "Epoch [44/50] Batch 0/1875                   Loss D: 0.6489, loss G: 0.9695\n",
            "Epoch [45/50] Batch 0/1875                   Loss D: 0.7460, loss G: 0.7091\n",
            "Epoch [46/50] Batch 0/1875                   Loss D: 0.6518, loss G: 1.0414\n",
            "Epoch [47/50] Batch 0/1875                   Loss D: 0.7632, loss G: 0.7154\n",
            "Epoch [48/50] Batch 0/1875                   Loss D: 0.6705, loss G: 1.2332\n",
            "Epoch [49/50] Batch 0/1875                   Loss D: 0.7438, loss G: 0.8275\n"
          ]
        }
      ]
    }
  ]
}